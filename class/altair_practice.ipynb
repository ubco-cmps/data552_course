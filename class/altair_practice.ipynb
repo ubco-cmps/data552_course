{
 "cells": [
  {
   "cell_type": "markdown",
   "metadata": {
    "Collapsed": "false"
   },
   "source": [
    "# Practice with Altair - Part 1"
   ]
  },
  {
   "cell_type": "markdown",
   "metadata": {
    "Collapsed": "false"
   },
   "source": [
    "## Learning Outcomes\n",
    "\n",
    "In this lab you will:\n",
    "\n",
    "- Use the `Altair` library in `python` to generate data visualizations for the following plots\n",
    "    - Scatterplots\n",
    "    - Bar/column plots\n",
    "    - Line plots\n",
    "    - Grouped bar plots\n",
    "    - Box plots\n",
    "    - Jitter/strip plots\n",
    "    - Heatmaps\n",
    "- Extract insight(s) from a visualization\n",
    "- Summarize the benefits and disadvantages of two plot types showing the same data"
   ]
  },
  {
   "cell_type": "code",
   "execution_count": 1,
   "metadata": {
    "Collapsed": "false"
   },
   "outputs": [],
   "source": [
    "import pandas as pd\n",
    "import altair as alt\n",
    "from vega_datasets import data"
   ]
  },
  {
   "cell_type": "markdown",
   "metadata": {
    "Collapsed": "false"
   },
   "source": [
    "##### Depending on your programming environment, you may need to specify a particular [renderer](https://altair-viz.github.io/user_guide/renderers.html) for Altair. If you are using JupyterLab, you do not need to do anything, the correct renderer will be enabled automatically."
   ]
  },
  {
   "cell_type": "markdown",
   "metadata": {
    "Collapsed": "false",
    "toc-hr-collapsed": false
   },
   "source": [
    "## Practice Problems (PP) - Basics of plotting with altair\n",
    "\n",
    "**Please note that Practice Problems are meant to be for practice, and solutions have been released already.**\n",
    "\n",
    "The purpose of these practice problems is to help you learn the ``altair`` syntax and prepare you to answer the lab questions."
   ]
  },
  {
   "cell_type": "markdown",
   "metadata": {
    "Collapsed": "false"
   },
   "source": [
    "### PP 1 - Column/bar plot\n",
    "\n",
    "Similarly to working with `ggplot` in `R`, visualization in Altair is best done with [\"tidy\"](http://vita.had.co.nz/papers/tidy-data.html) data. Let's start by loading a data frame:\n"
   ]
  },
  {
   "cell_type": "code",
   "execution_count": 2,
   "metadata": {
    "Collapsed": "false"
   },
   "outputs": [
    {
     "data": {
      "text/html": [
       "<div>\n",
       "<style scoped>\n",
       "    .dataframe tbody tr th:only-of-type {\n",
       "        vertical-align: middle;\n",
       "    }\n",
       "\n",
       "    .dataframe tbody tr th {\n",
       "        vertical-align: top;\n",
       "    }\n",
       "\n",
       "    .dataframe thead th {\n",
       "        text-align: right;\n",
       "    }\n",
       "</style>\n",
       "<table border=\"1\" class=\"dataframe\">\n",
       "  <thead>\n",
       "    <tr style=\"text-align: right;\">\n",
       "      <th></th>\n",
       "      <th>Entity</th>\n",
       "      <th>Year</th>\n",
       "      <th>Deaths</th>\n",
       "    </tr>\n",
       "  </thead>\n",
       "  <tbody>\n",
       "    <tr>\n",
       "      <th>116</th>\n",
       "      <td>All natural disasters</td>\n",
       "      <td>2017</td>\n",
       "      <td>2087</td>\n",
       "    </tr>\n",
       "    <tr>\n",
       "      <th>266</th>\n",
       "      <td>Earthquake</td>\n",
       "      <td>2017</td>\n",
       "      <td>49</td>\n",
       "    </tr>\n",
       "    <tr>\n",
       "      <th>335</th>\n",
       "      <td>Epidemic</td>\n",
       "      <td>2017</td>\n",
       "      <td>386</td>\n",
       "    </tr>\n",
       "    <tr>\n",
       "      <th>390</th>\n",
       "      <td>Extreme temperature</td>\n",
       "      <td>2017</td>\n",
       "      <td>130</td>\n",
       "    </tr>\n",
       "    <tr>\n",
       "      <th>501</th>\n",
       "      <td>Extreme weather</td>\n",
       "      <td>2017</td>\n",
       "      <td>394</td>\n",
       "    </tr>\n",
       "  </tbody>\n",
       "</table>\n",
       "</div>"
      ],
      "text/plain": [
       "                    Entity  Year  Deaths\n",
       "116  All natural disasters  2017    2087\n",
       "266             Earthquake  2017      49\n",
       "335               Epidemic  2017     386\n",
       "390    Extreme temperature  2017     130\n",
       "501        Extreme weather  2017     394"
      ]
     },
     "execution_count": 2,
     "metadata": {},
     "output_type": "execute_result"
    }
   ],
   "source": [
    "disasters = data.disasters() # You will need to be connected to the internet for this line to work\n",
    "disasters2017 = disasters.loc[disasters[\"Year\"] == 2017]\n",
    "disasters2017.head() # display the first five rows"
   ]
  },
  {
   "cell_type": "markdown",
   "metadata": {
    "Collapsed": "false"
   },
   "source": [
    "**Task: Make a column/bar plot of the total number of Deaths by Disaster Entity. See image below, your plot should look like that.**\n",
    "\n",
    "- Plotting in `Altair` usually starts with calling ```alt.Chart()``` and specifying a data source \n",
    "    - in `ggplot`: `ggplot()`\n",
    "    - Unlike in `ggplot`, column names in `Altair` need to be surrounded by single quotes\n",
    "- Next, you need to specify how the data will be mapped to the axes with `.encode()`\n",
    "    - in `ggplot`: `aes()`\n",
    "    - Traits of the x and y axes (labels, coordinates, ticks, etc...) are specified within the `alt.X` and `alt.Y` objects\n",
    "- Then, you specify how the data will be shown on the plot with `.mark_...` \n",
    "    - in `ggplot`: `geom_...()`\n",
    "- You can then add overall ```.properties()``` to tweak things like the height and width of your plot.\n",
    "\n",
    "![PP1](https://github.com/firasm/bits/blob/master/altair_pp1.png?raw=true)"
   ]
  },
  {
   "cell_type": "code",
   "execution_count": 32,
   "metadata": {
    "Collapsed": "false"
   },
   "outputs": [],
   "source": [
    "#### Your Solution here"
   ]
  },
  {
   "cell_type": "markdown",
   "metadata": {
    "Collapsed": "false"
   },
   "source": [
    "### PP 2 - Customize encodings\n",
    "\n",
    "We will continue using the disaster dataset, but will do some wrangling to look at some other trends\n",
    "\n",
    "**Task: Create a bar plot of Deaths for all natural disasters, over time. See image, your plot should look like that)**\n",
    "\n",
    "* Wrangle the data to select only the \"All natural disasters\":\n",
    "``` all_disasters = disasters.loc[disasters['Entity'] == 'All natural disasters'] ```\n",
    "\n",
    "* In the examples above, the data type for each field is inferred automatically based on its type within the Pandas data frame. We can also explicitly indicate the data type to Altair by annotating the field name. In our case we can use ```Year:O```:\n",
    "    * `variable:N` indicates a nominal type (unordered, categorical data),\n",
    "    * `variable:O` indicates an ordinal type (rank-ordered data),\n",
    "    * `variable:Q` indicates a quantitative type (numerical data with meaningful magnitudes), and\n",
    "    * `variable:T` indicates a temporal type (date/time data)\n",
    "\n",
    "* Altair also provides construction methods for encoding definitions, using the syntax alt.X('Year'). This alternative is useful for providing more parameters to an encoding like:\n",
    "```alt.X('Year:O', scale=alt.Scale(type='log'), axis=alt.Axis(labelAngle=50) )```\n",
    "\n",
    "* You can change the dimensions of your plot by adding:\n",
    "```.properties(width=400, height=100)```\n",
    "\n",
    "![PP2](https://github.com/firasm/bits/blob/master/altair_pp2.png?raw=true)"
   ]
  },
  {
   "cell_type": "code",
   "execution_count": 33,
   "metadata": {
    "Collapsed": "false"
   },
   "outputs": [],
   "source": [
    "all_disasters = disasters.loc[disasters[\"Entity\"] == 'All natural disasters']\n",
    "\n",
    "#### Your Solution here"
   ]
  },
  {
   "cell_type": "markdown",
   "metadata": {
    "Collapsed": "false"
   },
   "source": [
    "### PP 3 - Stacked bar chart\n",
    "\n",
    "Staying with the disasters dataset still, let's look a little closer at the years 2011 to 2017.\n",
    "\n",
    "**Task: Create a 'Normalized Stacked' Bar chart showing the percentage of all Deaths according to year form 2011 onwards. See image below, your plot should look like that.**\n",
    "\n",
    "![PP3](https://github.com/firasm/bits/blob/master/altair_pp3.png?raw=true)"
   ]
  },
  {
   "cell_type": "code",
   "execution_count": 5,
   "metadata": {
    "Collapsed": "false"
   },
   "outputs": [],
   "source": [
    "# as always we provide a bit of data wrangling\n",
    "disasters_since2010 = disasters.loc[(disasters[\"Year\"].isin([\"2011\",\"2012\",\"2013\",\"2014\",\"2015\",\"2016\",\"2017\"]))\n",
    "                             & (disasters[\"Entity\"] != \"All natural disasters\")]"
   ]
  },
  {
   "cell_type": "code",
   "execution_count": 34,
   "metadata": {
    "Collapsed": "false"
   },
   "outputs": [],
   "source": [
    "#### Your Solution here"
   ]
  },
  {
   "cell_type": "markdown",
   "metadata": {
    "Collapsed": "false"
   },
   "source": [
    "### PP 4 - Scatter plots\n",
    "\n",
    "Switching gears to a new dataset, let's now grab the `seattle_weather` dataset from the vega-datasets package.  `seattle_weather` contains 5 variables of daily weather measurements in Seattle from 2012 to 2015:\n",
    "- daily percipitation (in mm)\n",
    "- daily maximum temperature (in C)\n",
    "- daily minimum temperature (in C\n",
    "- wind speed (metres/sec)\n",
    "- and a weather descriptor\n",
    "\n",
    "**Task: Create a scatterplot of the maximum daily temperature coloured by the weather descriptor for each day. See image below, your plot should look like that.**\n",
    "\n",
    "Hint1: Think about which mark_() you'd like to use for a scatterplot\n",
    "\n",
    "![PP4](https://github.com/firasm/bits/blob/master/altair_pp4.png?raw=true)"
   ]
  },
  {
   "cell_type": "code",
   "execution_count": 7,
   "metadata": {
    "Collapsed": "false"
   },
   "outputs": [
    {
     "data": {
      "text/html": [
       "<div>\n",
       "<style scoped>\n",
       "    .dataframe tbody tr th:only-of-type {\n",
       "        vertical-align: middle;\n",
       "    }\n",
       "\n",
       "    .dataframe tbody tr th {\n",
       "        vertical-align: top;\n",
       "    }\n",
       "\n",
       "    .dataframe thead th {\n",
       "        text-align: right;\n",
       "    }\n",
       "</style>\n",
       "<table border=\"1\" class=\"dataframe\">\n",
       "  <thead>\n",
       "    <tr style=\"text-align: right;\">\n",
       "      <th></th>\n",
       "      <th>date</th>\n",
       "      <th>precipitation</th>\n",
       "      <th>temp_max</th>\n",
       "      <th>temp_min</th>\n",
       "      <th>wind</th>\n",
       "      <th>weather</th>\n",
       "    </tr>\n",
       "  </thead>\n",
       "  <tbody>\n",
       "    <tr>\n",
       "      <th>0</th>\n",
       "      <td>2012-01-01</td>\n",
       "      <td>0.0</td>\n",
       "      <td>12.8</td>\n",
       "      <td>5.0</td>\n",
       "      <td>4.7</td>\n",
       "      <td>drizzle</td>\n",
       "    </tr>\n",
       "    <tr>\n",
       "      <th>1</th>\n",
       "      <td>2012-01-02</td>\n",
       "      <td>10.9</td>\n",
       "      <td>10.6</td>\n",
       "      <td>2.8</td>\n",
       "      <td>4.5</td>\n",
       "      <td>rain</td>\n",
       "    </tr>\n",
       "    <tr>\n",
       "      <th>2</th>\n",
       "      <td>2012-01-03</td>\n",
       "      <td>0.8</td>\n",
       "      <td>11.7</td>\n",
       "      <td>7.2</td>\n",
       "      <td>2.3</td>\n",
       "      <td>rain</td>\n",
       "    </tr>\n",
       "    <tr>\n",
       "      <th>3</th>\n",
       "      <td>2012-01-04</td>\n",
       "      <td>20.3</td>\n",
       "      <td>12.2</td>\n",
       "      <td>5.6</td>\n",
       "      <td>4.7</td>\n",
       "      <td>rain</td>\n",
       "    </tr>\n",
       "    <tr>\n",
       "      <th>4</th>\n",
       "      <td>2012-01-05</td>\n",
       "      <td>1.3</td>\n",
       "      <td>8.9</td>\n",
       "      <td>2.8</td>\n",
       "      <td>6.1</td>\n",
       "      <td>rain</td>\n",
       "    </tr>\n",
       "  </tbody>\n",
       "</table>\n",
       "</div>"
      ],
      "text/plain": [
       "        date  precipitation  temp_max  temp_min  wind  weather\n",
       "0 2012-01-01            0.0      12.8       5.0   4.7  drizzle\n",
       "1 2012-01-02           10.9      10.6       2.8   4.5     rain\n",
       "2 2012-01-03            0.8      11.7       7.2   2.3     rain\n",
       "3 2012-01-04           20.3      12.2       5.6   4.7     rain\n",
       "4 2012-01-05            1.3       8.9       2.8   6.1     rain"
      ]
     },
     "execution_count": 7,
     "metadata": {},
     "output_type": "execute_result"
    }
   ],
   "source": [
    "weather = data.seattle_weather()\n",
    "weather.head()"
   ]
  },
  {
   "cell_type": "code",
   "execution_count": 35,
   "metadata": {
    "Collapsed": "false"
   },
   "outputs": [],
   "source": [
    "#### Your Solution here"
   ]
  },
  {
   "cell_type": "markdown",
   "metadata": {
    "Collapsed": "false"
   },
   "source": [
    "### PP5 - Line plot\n",
    "\n",
    "Continuing with the `weather` dataset here...\n",
    "\n",
    "Altair offers a variety of data transformations defined while plotting. For this exercise we recommend opening the [Data Transformation Documentation](https://altair-viz.github.io/user_guide/transform.html) while working through the exercise. Dates can be handeled separately wihtin altair encodings, for more information look at the [dates docuemtnation](https://altair-viz.github.io/user_guide/times_and_dates.html).\n",
    "\n",
    "**Task: Make a line plot for the mean max temperature, grouped by each month. See image below, your plot should look like that.**\n",
    "\n",
    "*Challenge: Can you make the x-axis show up as actual months (May-August)?*\n",
    "\n",
    "![PP5](https://github.com/firasm/bits/blob/master/altair_pp5.png?raw=true)"
   ]
  },
  {
   "cell_type": "code",
   "execution_count": 36,
   "metadata": {
    "Collapsed": "false"
   },
   "outputs": [],
   "source": [
    "#### Your Solution here"
   ]
  },
  {
   "cell_type": "markdown",
   "metadata": {
    "Collapsed": "false"
   },
   "source": [
    "### PP6 - Box plot"
   ]
  },
  {
   "cell_type": "markdown",
   "metadata": {
    "Collapsed": "false"
   },
   "source": [
    "Let's also assess the minimum temperatures for Seattle!\n",
    "\n",
    "**Task: Create a box plot, showing minimum temperature ranges per month. Bonus: Can you figure out how to display whiskers ranging from minimum to maximum values?**\n",
    "\n",
    "HINT: You can stylise your plot using ```.configure_axis()``` and ```.properties()``` in altair\n",
    "\n"
   ]
  },
  {
   "cell_type": "code",
   "execution_count": 37,
   "metadata": {},
   "outputs": [],
   "source": [
    "#### Your Solution here"
   ]
  },
  {
   "cell_type": "markdown",
   "metadata": {
    "Collapsed": "false"
   },
   "source": [
    "### PP7 - Jitter/strip plot"
   ]
  },
  {
   "cell_type": "markdown",
   "metadata": {
    "Collapsed": "false"
   },
   "source": [
    "In `Altair`, the jitterplot we have seen is called a \"strip plot\". It is created by starting with a mark_circle and then adding a manual transformation to jitter. \n",
    "\n",
    "**Task: Create a strip plot, showing minimum temperature ranges per month.** \n",
    "\n",
    "- In Altair, there currently is no default `mark_jitter()` \n",
    "\n",
    "- To create a jitter plot, we will start with a `mark_circle` and then specify the transformation function to use and add it to the `Altair` object.\n",
    "- We will select a widely accepted transformation for this, which is the \"Box-Muller\" transform: \n",
    "- Start with `mark_circle().encode(alt.X(jitter:Q))` and then specify a transformation like: \n",
    "    - `.transform_calculate(jitter='sqrt(-2*log(random()))*cos(2*PI*random()))'`\n",
    "- Use ```.configure_facet(spacing=0)``` to create a continuous looking y-axis. \n",
    "\n",
    "![PP7](https://github.com/firasm/bits/blob/master/altair_pp7.png?raw=true)"
   ]
  },
  {
   "cell_type": "code",
   "execution_count": 38,
   "metadata": {
    "Collapsed": "false"
   },
   "outputs": [],
   "source": [
    "#### Your Solution here"
   ]
  },
  {
   "cell_type": "markdown",
   "metadata": {
    "Collapsed": "false"
   },
   "source": [
    "### PP8 - Concatenating plots\n",
    "\n",
    "Sometimes it is extremely useful to display two plots next to each other. Let's build on the line plot above and display a stacked bar plot next to the line plot. You can check altairs [documentation](https://altair-viz.github.io/user_guide/compound_charts.html) on the different possibilities to concatenate plots.\n",
    "\n",
    "**Task: Make a line plot for the mean max temperature, grouped by each month, and add a stacked bar plot of the same data next to it. See image below, your plot should look like that.**\n",
    "\n",
    "![PP8](https://github.com/firasm/bits/blob/master/altair_pp8.png?raw=true)"
   ]
  },
  {
   "cell_type": "code",
   "execution_count": 39,
   "metadata": {
    "Collapsed": "false"
   },
   "outputs": [],
   "source": [
    "#### Your Solution here"
   ]
  },
  {
   "cell_type": "markdown",
   "metadata": {
    "Collapsed": "false"
   },
   "source": [
    "**Congratulations!**"
   ]
  }
 ],
 "metadata": {
  "kernelspec": {
   "display_name": "Python 3",
   "language": "python",
   "name": "python3"
  },
  "language_info": {
   "codemirror_mode": {
    "name": "ipython",
    "version": 3
   },
   "file_extension": ".py",
   "mimetype": "text/x-python",
   "name": "python",
   "nbconvert_exporter": "python",
   "pygments_lexer": "ipython3",
   "version": "3.8.3"
  }
 },
 "nbformat": 4,
 "nbformat_minor": 4
}
