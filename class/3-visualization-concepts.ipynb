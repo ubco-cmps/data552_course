{
 "cells": [
  {
   "cell_type": "markdown",
   "metadata": {},
   "source": [
    "# 531 Lec 3 - Visualization concepts and plot choices "
   ]
  },
  {
   "cell_type": "markdown",
   "metadata": {},
   "source": [
    "## Lecture learning goals\n",
    "\n",
    "By the end of the lecture you will be able to:\n",
    "\n",
    "1. Visualize distributions.\n",
    "2. Understand how different distribution plots are made and their pros and cons.\n",
    "3. Select an appropriate distribution plot for the situation.\n",
    "4. Grasp EDA on a conceptual levels both for numerical and categorical variables."
   ]
  },
  {
   "cell_type": "markdown",
   "metadata": {},
   "source": [
    "## Required readings\n",
    "\n",
    "- Chapter 7 and 9 of [Fundamentals of Data Visualization](https://clauswilke.com/dataviz/histograms-density-plots.html). No other notes will be posted, since we didn't include any code of our own and these sections are very close to what I would want to write myself so use this reference and the videos when studying.\n",
    "- [Interactive flow chart](https://www.data-to-viz.com/) for which visualization to choose. Not really anything to read, but go there to look around and bookmark it to use as a reference when needed throughout this course and others.\n",
    "\n",
    "## Table of Contents\n",
    "\n",
    "You can view the ToC by opening this in your local Jupyter Lab,\n",
    "and downloading the ToC extension\n",
    "by going to the Extension Manager tab in the left sidebar, searching for \"toc\", and clicking \"install\"\n",
    "(I posted [a video about this on slack](https://ubc-mds.slack.com/archives/C24GEJS11/p1599940203406600) if you can't find the extension).\n",
    "\n",
    "---"
   ]
  },
  {
   "cell_type": "markdown",
   "metadata": {},
   "source": [
    "# Visualizing distributions fairly"
   ]
  },
  {
   "cell_type": "markdown",
   "metadata": {},
   "source": [
    "## Barplots\n",
    "\n",
    "Barplots hide details of distributions by showing only 1 values (or 3 with error bars).\n",
    "Below is an example of this from a [scientific article on how to present data accurately](https://journals.plos.org/plosbiology/article?id=10.1371/journal.pbio.1002128).\n",
    "You can see that the bars could hide widely different data distributions,\n",
    "which would lead to different interpretations of he experiment\n",
    "both visually from looking at the points\n",
    "and by examining formal statistical comparisons\n",
    "(the table below the figure,\n",
    "you don't need to know exactly what these are\n",
    "just note how different they are from different distributions).\n",
    "\n",
    "![image.png](img/barplot-hiding-points.png)"
   ]
  },
  {
   "cell_type": "markdown",
   "metadata": {},
   "source": [
    "## Boxplots\n",
    "\n",
    "Boxplots are better (5-9 values) but can also hide important information.\n",
    "I have included a couple of examples showing how different plot types change when the data changes.\n",
    "This is from [Autodesk Research](https://www.autodesk.com/research/publications/same-stats-different-graphs)\n",
    "who also made the animation of the datasaurus we saw in lecture 1.\n",
    "\n",
    "![](img/hist-point-box.gif)\n",
    "\n",
    "![](img/point-box-violin.gif)"
   ]
  },
  {
   "cell_type": "markdown",
   "metadata": {},
   "source": [
    "# Kernel density estimates\n",
    "\n",
    "The animation below shows how a KDE is constructed\n",
    "from first adding individual kernels (curves) centered on each data point and then summing them together\n",
    "(created from [this YouTube video](https://youtu.be/DCgPRaIDYXAvideo)):\n",
    "\n",
    "![](img/kde-buildup.gif)\n",
    "\n",
    "[Scikit learn's documenation on KDEs is great](https://scikit-learn.org/stable/modules/density.html#density-estimation) and includes images comparing with histograms and also visualizing the different kernels that could be used.\n",
    "\n",
    "![image.png](img/distributions.png)\n",
    "\n",
    "![image.png](img/kernels.png)"
   ]
  }
 ],
 "metadata": {
  "kernelspec": {
   "display_name": "Python 3",
   "language": "python",
   "name": "python3"
  },
  "language_info": {
   "codemirror_mode": {
    "name": "ipython",
    "version": 3
   },
   "file_extension": ".py",
   "mimetype": "text/x-python",
   "name": "python",
   "nbconvert_exporter": "python",
   "pygments_lexer": "ipython3",
   "version": "3.8.3"
  }
 },
 "nbformat": 4,
 "nbformat_minor": 4
}
