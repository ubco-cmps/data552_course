{
 "cells": [
  {
   "cell_type": "markdown",
   "metadata": {
    "Collapsed": "false"
   },
   "source": [
    "# Practice with ggplot - Part 2"
   ]
  },
  {
   "cell_type": "markdown",
   "metadata": {
    "Collapsed": "false"
   },
   "source": [
    "## Introduction\n",
    "\n",
    "## Learning Outcomes\n",
    "\n",
    "In this lab you will:\n",
    "\n",
    "- Use the `ggplot` library in `R` to generate data visualizations for the following plots\n",
    "    - Faceted plots\n",
    "    - Ridgeline plots\n",
    "    - Violin plots\n",
    "    - Grouped bar plots\n",
    "    - Box plots\n",
    "    - Jitter/strip plots\n",
    "- Apply effective design principles to data visualizations\n",
    "- Evaluate and critique data visualizations based on effective design principles\n",
    "- Extract insight(s) from a visualization\n",
    "- Summarize the benefits and disadvantages of two plot types showing the same data"
   ]
  },
  {
   "cell_type": "markdown",
   "metadata": {
    "Collapsed": "false",
    "toc-hr-collapsed": false
   },
   "source": [
    "## Practice Problems (PP) - More plot types with ggplot\n",
    "\n",
    "** Please note that ALL the practice Problems are meant to be for practice and will not be graded by the TAs.**\n",
    "\n",
    "The purpose of these practice problems is to help you learn the ``ggplot2`` syntax and prepare you to answer the lab questions."
   ]
  },
  {
   "cell_type": "markdown",
   "metadata": {
    "Collapsed": "false"
   },
   "source": [
    "### Packages you need to install\n",
    "\n",
    "- `ggridges`\n",
    "- `Lahman`\n",
    "- `viridis`\n",
    "- `cowplot` \n",
    "    - Install the `cowplot` package using `install.packages(\"cowplot\")` in your R console (do not include any install code in this notebook)\n",
    "    - You may need to install some dependencies:\n",
    "        - `Imagemagick` is a pretty powerful tool for manipulating images and bitmaps, so I encourage you to spend a bit of time installing it. If you do have trouble, please try to complete the rest of the lab first, you should only need it for Exercise 8 and the practice problems in this lab.\n",
    "        - On macOS: you may need to install `imagemagick`. The suggested method is using [brew](https://formulae.brew.sh/formula/imagemagick)\n",
    "        - On windows: you will likely not have `imagemagick` installed, I'd recommend the binary file from [here](https://imagemagick.org/script/download.php#windows) if you need to install it\n",
    "        - On Ubuntu: you likely already have `imagemagick`, but in case you don't you can install the binary [from here](https://imagemagick.org/script/download.php#unix)"
   ]
  },
  {
   "cell_type": "raw",
   "metadata": {
    "Collapsed": "false"
   },
   "source": [
    "# Set some reasonable defaults for the figures, you will likely need to \n",
    "# adjust them for each individual plot\n",
    "\n",
    "options(tidyverse.quiet = TRUE,\n",
    "        repr.plot.width = 6, \n",
    "        repr.plot.height = 3)\n",
    "\n",
    "library(tidyverse)\n",
    "library(datasets)\n",
    "\n",
    "library(ggridges) # Needed for ridgeline plots\n",
    "library(Lahman)   # Contains the baseball batting dataset\n",
    "library(viridis)  # Colour-blind friendly colour scheme\n",
    "library(cowplot)  # Needed for side-by-side plots and great themes\n",
    "library(magick)   # Dependency of cowplot when plotting images\n",
    "\n",
    "theme_set(theme_cowplot())"
   ]
  },
  {
   "cell_type": "markdown",
   "metadata": {},
   "source": [
    "### PP 1 - Violin plot\n",
    "\n",
    "**Task: Make a violin plot of the total annual hits since 2010 for the Toronto Bluejays. Your plot should look like the plot on the right.**"
   ]
  },
  {
   "cell_type": "raw",
   "metadata": {
    "Collapsed": "false"
   },
   "source": [
    "# p1 <- Lahman::Batting %>% \n",
    "#        filter(yearID >= 2010, \n",
    "#               teamID == \"TOR\",\n",
    "#               H > 10) %>% \n",
    "#        mutate(yearID = as.factor(yearID)) %>% \n",
    "\n",
    "p1 <- ggplot()\n",
    "\n",
    "### YOUR SOLUTION HERE\n",
    "\n",
    "p2 <- ggdraw() +\n",
    "    draw_image(\"https://i.ibb.co/dQ88Hcn/PP1.png\")\n",
    "\n",
    "plot_grid(p1, p2)"
   ]
  },
  {
   "cell_type": "markdown",
   "metadata": {},
   "source": [
    "### PP 2 - Violin plot with jittered points\n",
    "\n",
    "**Task: Add jittered plots to the violin plot you made above. Your plot should look like the plot on the right.**"
   ]
  },
  {
   "cell_type": "raw",
   "metadata": {
    "Collapsed": "false"
   },
   "source": [
    "# Lahman::Batting %>% \n",
    "#    filter(yearID >= 2010, \n",
    "#           teamID == \"TOR\",\n",
    "#           H > 10) %>% \n",
    "#    mutate(yearID = as.factor(yearID)) %>% ### Pipe into ggplot\n",
    "\n",
    "p1 <- ggplot()\n",
    "\n",
    "### YOUR SOLUTION HERE\n",
    "\n",
    "p2 <- ggdraw() +\n",
    "    draw_image(\"https://i.ibb.co/XXshcTV/PP2.png\")\n",
    "\n",
    "plot_grid(p1, p2)"
   ]
  },
  {
   "cell_type": "markdown",
   "metadata": {},
   "source": [
    "### PP 3 - Faceted bar chart\n",
    "\n",
    "**Task: Use the `mpg` dataset and make a bar plot of `hwy` vs `cyl` with a different panel for each year. The wrangling has been done for you, your plot should look like the plot on the right.**"
   ]
  },
  {
   "cell_type": "raw",
   "metadata": {
    "Collapsed": "false"
   },
   "source": [
    "# p1 <- mpg %>% \n",
    "#     mutate(cyl = as.factor(cyl)) %>% \n",
    "\n",
    "p1 <- ggplot()\n",
    "\n",
    "### YOUR SOLUTION HERE\n",
    "\n",
    "p2 <- ggdraw() +\n",
    "    draw_image(\"https://i.ibb.co/SxbfgZJ/PP3.png\")\n",
    "\n",
    "plot_grid(p1, p2)"
   ]
  },
  {
   "cell_type": "markdown",
   "metadata": {},
   "source": [
    "### PP 4 - Stacked Bar chart \n",
    "\n",
    "**Task: Use the `ToothGrowth` dataset and make a stacked bar plot of tooth length observations (`len`) in each supplement type for each dose**\n",
    "\n",
    "Notice how this is not an ideal way of visualize this data. Think about why that is... \n",
    "\n",
    "Details about the toothgrowth dataset: \n",
    "\n",
    "> **Description**\n",
    ">\n",
    "> \"The response is the length of odontoblasts (cells responsible for tooth growth) in 60 guinea pigs. Each animal received one of three dose levels of vitamin C (0.5, 1, and 2 mg/day) by one of two delivery methods, orange juice or ascorbic acid (a form of vitamin C and coded as VC).\"\n",
    ">\n",
    "> Source: https://stat.ethz.ch/R-manual/R-patched/library/datasets/html/ToothGrowth.html"
   ]
  },
  {
   "cell_type": "raw",
   "metadata": {
    "Collapsed": "false"
   },
   "source": [
    "# startingPlot <- datasets::ToothGrowth %>% ### PIPE into ggplot\n",
    "\n",
    "### YOUR SOLUTION HERE\n",
    "\n",
    "p2 <- ggdraw() +\n",
    "    draw_image(\"https://i.ibb.co/JcdZQwJ/PP4.png\")\n",
    "\n",
    "plot_grid(p1, p2)"
   ]
  },
  {
   "cell_type": "markdown",
   "metadata": {},
   "source": [
    "### PP 5 - Faceted box plot  \n",
    "\n",
    "Let's try a faceted box plot instead to visualize this dataset. We will step through it and slowly improve it, layer by layer\n",
    "\n",
    "**Task: Use the `ToothGrowth` dataset and make a boxplot of `len` for the different types of supplement (`supp`) with a panel for each dose**"
   ]
  },
  {
   "cell_type": "raw",
   "metadata": {},
   "source": [
    "# cool_plot <- datasets::ToothGrowth %>% ### PIPE into ggplot\n",
    "\n",
    "cool_plot <- ggplot()\n",
    "\n",
    "### YOUR SOLUTION HERE\n",
    "\n",
    "p2 <- ggdraw() +\n",
    "    draw_image(\"https://i.ibb.co/CHDD1gD/PP5.png\")\n",
    "\n",
    "plot_grid(cool_plot, p2)"
   ]
  },
  {
   "cell_type": "markdown",
   "metadata": {},
   "source": [
    "### PP 5.1 - Faceted Boxplot - change legend position to be below the x-axis\n",
    "**Task: Modify the previous plot, changing the legend position to the bottom of the plot**"
   ]
  },
  {
   "cell_type": "raw",
   "metadata": {
    "Collapsed": "false"
   },
   "source": [
    "cool_plot <- ggplot()\n",
    "\n",
    "### YOUR SOLUTION HERE\n",
    "\n",
    "p2 <- ggdraw() +\n",
    "    draw_image(\"https://i.ibb.co/k6c8Jx4/PP5-1.png\")\n",
    "\n",
    "plot_grid(cool_plot, p2)"
   ]
  },
  {
   "cell_type": "markdown",
   "metadata": {},
   "source": [
    "### PP 5.2 - Faceted Boxplot - improve legend labels\n",
    "**Task: Modify the boxplot again, improving the legend label to show the full names of the supplements used**"
   ]
  },
  {
   "cell_type": "raw",
   "metadata": {},
   "source": [
    "cool_plot <- ggplot()\n",
    "\n",
    "### YOUR SOLUTION HERE\n",
    "\n",
    "p2 <- ggdraw() +\n",
    "    draw_image(\"https://i.ibb.co/64nsQhk/PP5-2.png\")\n",
    "\n",
    "plot_grid(cool_plot, p2)"
   ]
  },
  {
   "cell_type": "markdown",
   "metadata": {},
   "source": [
    "### PP 5.3 - Facetted Boxplot - Add x and y-labels\n",
    "**Task: Modify the x and y labels to make them more informative**"
   ]
  },
  {
   "cell_type": "raw",
   "metadata": {
    "Collapsed": "false"
   },
   "source": [
    "cool_plot <- ggplot()\n",
    "\n",
    "### YOUR SOLUTION HERE\n",
    "\n",
    "p2 <- ggdraw() +\n",
    "    draw_image(\"https://i.ibb.co/bHyfqwj/PP5-3.png\")\n",
    "\n",
    "plot_grid(cool_plot, p2)"
   ]
  },
  {
   "cell_type": "markdown",
   "metadata": {},
   "source": [
    "### PP 5.4 - Facetted Boxplot - rotate x-axis labels by 45 degrees\n",
    "**Task: Rotate the x-axis labels 45 degrees**"
   ]
  },
  {
   "cell_type": "raw",
   "metadata": {
    "Collapsed": "false"
   },
   "source": [
    "cool_plot <- ggplot()\n",
    "\n",
    "### YOUR SOLUTION HERE\n",
    "\n",
    "p2 <- ggdraw() +\n",
    "    draw_image(\"https://i.ibb.co/L9tBJcD/PP5-4.png\")\n",
    "\n",
    "plot_grid(cool_plot, p2)"
   ]
  },
  {
   "cell_type": "markdown",
   "metadata": {},
   "source": [
    "### PP 6 - Ridgeline plot\n",
    "\n",
    "**Task: Create a ridgeline plot of the mean temperature observations in Lincoln for each month. Add a color gradient based on the temperature values**"
   ]
  },
  {
   "cell_type": "raw",
   "metadata": {
    "Collapsed": "false"
   },
   "source": [
    "# Hint: if your top-most ridgeline is cut off, you need scale_y_discrete(expand\n",
    "# see https://stackoverflow.com/questions/50055730/line-at-the-top-of-a-ridgeline-density-plot-is-cut-off for the solution\n",
    "\n",
    "p1 <- ggplot()\n",
    "\n",
    "### YOUR SOLUTION HERE\n",
    "\n",
    "p2 <- ggdraw() +\n",
    "     draw_image(\"https://i.ibb.co/wLTY8HF/PP6.png\")\n",
    "#<a href=\"https://ibb.co/2jGGp6X\"><img src=\"\" alt=\"PP1\" border=\"0\"></a>\n",
    "plot_grid(p1, p2)"
   ]
  },
  {
   "cell_type": "markdown",
   "metadata": {
    "Collapsed": "false"
   },
   "source": [
    "**Congratulations!**"
   ]
  }
 ],
 "metadata": {
  "kernelspec": {
   "display_name": "Python 3",
   "language": "python",
   "name": "python3"
  },
  "language_info": {
   "codemirror_mode": {
    "name": "ipython",
    "version": 3
   },
   "file_extension": ".py",
   "mimetype": "text/x-python",
   "name": "python",
   "nbconvert_exporter": "python",
   "pygments_lexer": "ipython3",
   "version": "3.8.3"
  }
 },
 "nbformat": 4,
 "nbformat_minor": 4
}
