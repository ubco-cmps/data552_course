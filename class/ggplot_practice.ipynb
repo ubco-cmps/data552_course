{
 "cells": [
  {
   "cell_type": "markdown",
   "metadata": {
    "Collapsed": "false"
   },
   "source": [
    "# Practice with ggplot - Part 1"
   ]
  },
  {
   "cell_type": "markdown",
   "metadata": {
    "Collapsed": "false"
   },
   "source": [
    "## Introduction\n",
    "\n",
    "## Learning Outcomes\n",
    "\n",
    "In this lab you will:\n",
    "\n",
    "- Use the `ggplot` library in `R` to generate data visualizations for the following plots\n",
    "    - Scatterplots\n",
    "    - Bar/column plots\n",
    "    - Line plots\n",
    "    - Grouped bar plots\n",
    "    - Pie charts\n",
    "    - Box plots\n",
    "    - Jitter/strip plots\n",
    "- Apply the grammar of graphics to describe data visualizations\n",
    "- Choose an appropriate visualization when presented with a research question and data\n",
    "- Extract insight(s) from a visualization\n",
    "- Summarize the benefits and disadvantages of two plot types showing the same data"
   ]
  },
  {
   "cell_type": "code",
   "execution_count": null,
   "metadata": {
    "Collapsed": "false"
   },
   "outputs": [],
   "source": [
    "# Protip: uncomment the next line to suppress the annoying tidyverse \n",
    "# startup messages\n",
    "\n",
    "options(tidyverse.quiet = TRUE) \n",
    "# Protip x 2: add the line above to a file you create in your homedir\n",
    "# called .Rprofile to make this change permanent. You're welcome!\n",
    "\n",
    "library(tidyverse)\n",
    "library(datasets)"
   ]
  },
  {
   "cell_type": "markdown",
   "metadata": {
    "Collapsed": "false",
    "toc-hr-collapsed": false
   },
   "source": [
    "## Practice Problems (PP) - Basics of plotting with ggplot\n",
    "\n",
    "** Please note that ALL of Practice Problem 0 is meant to be for practice and will not be graded by the TAs.**\n",
    "\n",
    "The purpose of these practice problems is to help you learn the ``ggplot2`` syntax and prepare you to answer the lab questions."
   ]
  },
  {
   "cell_type": "markdown",
   "metadata": {
    "Collapsed": "false"
   },
   "source": [
    "### PP 1 - Column/bar plot\n",
    "\n",
    "Let's start by loading in the `gapminder` dataset (`library(\"gapminder\")`) which has some data on the wealth and life expectancy of countries over time. \n",
    "\n",
    "**Task: Make a column/bar plot of the total number of observations by continent. See image below, your plot should look like that.**\n",
    "\n",
    "This time, let's look at the summary of the data.frame. Try entering `summary(gapminder)` in a new code cell.\n",
    "\n",
    "![PP2](https://github.com/firasm/bits/blob/master/pp2.png?raw=true)"
   ]
  },
  {
   "cell_type": "code",
   "execution_count": 2,
   "metadata": {
    "Collapsed": "false"
   },
   "outputs": [],
   "source": [
    "### YOUR SOLUTION HERE\n"
   ]
  },
  {
   "cell_type": "markdown",
   "metadata": {
    "Collapsed": "false"
   },
   "source": [
    "### PP 2 - Line plot\n",
    "\n",
    "We will continue using the gampminder dataset.\n",
    "\n",
    "**Task: Create a line plot of the average life expectancy per continent, over time. See image below, your plot should look like that)**\n",
    "\n",
    "* Hint: you're still learning how to wrangle data in DSCI 523, so we will give you a starting point for the command to plot this:\n",
    "\n",
    "```gapminder %>%\n",
    "    group_by(`year`, `continent`) %>%\n",
    "    mutate(mean_lifeExp = mean(`lifeExp`)) %>% ...\n",
    "    ggplot(<<<CONTINUE HERE>>>>\n",
    "    ```\n",
    "    \n",
    "![PP3](https://github.com/firasm/bits/blob/master/pp3.png?raw=true)"
   ]
  },
  {
   "cell_type": "code",
   "execution_count": 3,
   "metadata": {
    "Collapsed": "false"
   },
   "outputs": [],
   "source": [
    "### YOUR SOLUTION HERE\n"
   ]
  },
  {
   "cell_type": "markdown",
   "metadata": {
    "Collapsed": "false"
   },
   "source": [
    "### PP 3 - Strip/Jitter plot\n",
    "\n",
    "Staying with the gapminder dataset still.\n",
    "\n",
    "**Task: Create a \"strip\" or \"jitter\" plot showing all observations of the life expectancy, split by continent. See image below, your plot should look like that.**\n",
    "\n",
    "![PP4](https://github.com/firasm/bits/blob/master/pp4.png?raw=true)"
   ]
  },
  {
   "cell_type": "code",
   "execution_count": 4,
   "metadata": {
    "Collapsed": "false"
   },
   "outputs": [],
   "source": [
    "### YOUR SOLUTION HERE\n"
   ]
  },
  {
   "cell_type": "markdown",
   "metadata": {
    "Collapsed": "false"
   },
   "source": [
    "### PP 4 - Scatterplot\n",
    "\n",
    "Switching gears to a new dataset, let's now grab the `airquality` dataset from the datasets package.  `airquality` contains 6 variables of daily air quality measurements\n",
    "in New York in 1973:\n",
    "\n",
    "- Ozone: Mean ozone in parts per billion from 1300 to 1500 hours at Roosevelt Island\n",
    "\n",
    "- Solar.R: Solar radiation in Langleys in the frequency band 4000--7700 Angstroms from 0800 to 1200 hours at Central Park\n",
    "\n",
    "- Wind: Average wind speed in miles per hour at 0700 and 1000 hours at LaGuardia Airport\n",
    "\n",
    "- Temp: Maximum daily temperature in degrees Fahrenheit at La Guardia Airport.\n",
    "\n",
    "The head command allows us to look at the first few lines of a data.frame. Try running the following command in a cell:\n",
    "\n",
    "`head(airquality)`\n",
    "\n",
    "**Task: Create a scatterplot of the mean ozone level vs. the maximum daily temperature with ggplot2. See image below, your plot should look like that.**\n",
    "\n",
    "Hint1: Think about which geom_() you'd like to use for a scatterplot\n",
    "Hint2: You may ignore the warning about missing data!\n",
    "\n",
    "![PP1](https://github.com/firasm/bits/blob/master/pp1.png?raw=true)"
   ]
  },
  {
   "cell_type": "code",
   "execution_count": 5,
   "metadata": {
    "Collapsed": "false"
   },
   "outputs": [],
   "source": [
    "### YOUR SOLUTION HERE\n"
   ]
  },
  {
   "cell_type": "markdown",
   "metadata": {
    "Collapsed": "false"
   },
   "source": [
    "### PP5 - Box plot\n",
    "\n",
    "Continuing with `airquality` here...\n",
    "\n",
    "Boxplots are often the bread and butter of many data scientists so it's worth knowing how to create them - even if we will learn better visualization techniques soon. If you want to refresh your memory of what a box represents, head over [here](https://www.r-graph-gallery.com/boxplot.html).\n",
    "\n",
    "**Task: Make a box plot for the max temperature, grouped by each month. See image below, your plot should look like that.**\n",
    "\n",
    "*Challenge: Can you make the x-axis show up as actual months (May-August) rather than numbers from 5-9?*\n",
    "\n",
    "![PP5](https://github.com/firasm/bits/blob/master/pp5.png?raw=true)"
   ]
  },
  {
   "cell_type": "code",
   "execution_count": 6,
   "metadata": {
    "Collapsed": "false"
   },
   "outputs": [],
   "source": [
    "### YOUR SOLUTION HERE\n"
   ]
  },
  {
   "cell_type": "markdown",
   "metadata": {
    "Collapsed": "false"
   },
   "source": [
    "### PP6 - Jitter plot on top of a box plot\n",
    "\n",
    "Let's improve upon the boxplot above by adding a jitterplot on top so we can visualize all the points together. \n",
    "\n",
    "**Task: Make a box plot for the max temperature, grouped by each month, add a jitter plot of the same data on top with a transparency/alpha of 0.2 and the outliers (4 circles extending past the boxes) removed from PP5. See image below, your plot should look like that.**\n",
    "\n",
    "![PP6](https://github.com/firasm/bits/blob/master/pp6.png?raw=true)"
   ]
  },
  {
   "cell_type": "code",
   "execution_count": 7,
   "metadata": {
    "Collapsed": "false"
   },
   "outputs": [],
   "source": [
    "### YOUR SOLUTION HERE\n"
   ]
  },
  {
   "cell_type": "markdown",
   "metadata": {
    "Collapsed": "false"
   },
   "source": [
    "### PP7 - Grouped Bar chart\n",
    "\n",
    "Last practice problem, you're nearly to the end!\n",
    "\n",
    "We'll need a new dataset for this example. Let's load in the `HairEyeColor` dataset, which has the distribution of hair and eye colour for 592 statistics students. \n",
    "\n",
    "We will unfortunately need to convert it to a data.frame: `HairEyeColor_df <- as.data.frame(HairEyeColor)`. This is necessary because not all datasets in the `datasets` package are stored in a standard way. \n",
    "\n",
    "**Task: Create a grouped bar chart with the frequency of eye colour, split by sex (Male and Female in the dataset). See image below, your plot should look like that**\n",
    "\n",
    "![PP7](https://github.com/firasm/bits/blob/master/pp7.png?raw=true)"
   ]
  },
  {
   "cell_type": "code",
   "execution_count": 1,
   "metadata": {
    "Collapsed": "false",
    "execution": {
     "iopub.execute_input": "2021-01-17T20:01:16.092Z",
     "iopub.status.busy": "2021-01-17T20:01:16.084Z",
     "iopub.status.idle": "2021-01-17T20:01:16.165Z",
     "shell.execute_reply": "2021-01-17T20:01:16.153Z"
    }
   },
   "outputs": [],
   "source": [
    "# Need to convert the raw data to a dataframe for easy plotting\n",
    "HairEyeColor_df <- as.data.frame(HairEyeColor) \n",
    "\n",
    "### YOUR SOLUTION HERE\n"
   ]
  },
  {
   "cell_type": "markdown",
   "metadata": {
    "Collapsed": "false"
   },
   "source": [
    "**Congratulations!**"
   ]
  }
 ],
 "metadata": {
  "kernelspec": {
   "display_name": "Python 3",
   "language": "python",
   "name": "python3"
  },
  "language_info": {
   "codemirror_mode": {
    "name": "ipython",
    "version": 3
   },
   "file_extension": ".py",
   "mimetype": "text/x-python",
   "name": "python",
   "nbconvert_exporter": "python",
   "pygments_lexer": "ipython3",
   "version": "3.8.3"
  },
  "nteract": {
   "version": "0.27.0"
  }
 },
 "nbformat": 4,
 "nbformat_minor": 4
}
