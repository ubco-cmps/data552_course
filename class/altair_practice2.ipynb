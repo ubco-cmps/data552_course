{
 "cells": [
  {
   "cell_type": "markdown",
   "metadata": {
    "Collapsed": "false"
   },
   "source": [
    "# Practice with Altair - Part 2"
   ]
  },
  {
   "cell_type": "markdown",
   "metadata": {
    "Collapsed": "false"
   },
   "source": [
    "## Introduction\n",
    "\n",
    "## Learning Outcomes\n",
    "\n",
    "In this lab you will:\n",
    "\n",
    "- Use the `Altair` library in `python` to generate data visualizations for the following plots\n",
    "    - Scatterplots\n",
    "    - Bar/column plots\n",
    "    - Line plots\n",
    "    - Grouped bar plots\n",
    "    - Box plots\n",
    "    - Jitter/strip plots\n",
    "    - Heatmaps\n",
    "- Extract insight(s) from a visualization\n",
    "- Summarize the benefits and disadvantages of two plot types showing the same data"
   ]
  },
  {
   "cell_type": "code",
   "execution_count": 1,
   "metadata": {
    "Collapsed": "false"
   },
   "outputs": [
    {
     "data": {
      "text/plain": [
       "DataTransformerRegistry.enable('json')"
      ]
     },
     "execution_count": 1,
     "metadata": {},
     "output_type": "execute_result"
    }
   ],
   "source": [
    "# Load packages\n",
    "\n",
    "import pandas as pd\n",
    "import altair as alt\n",
    "import numpy\n",
    "\n",
    "# Need to enable this to allow work with larger datasets (https://altair-viz.github.io/user_guide/faq.html)\n",
    "alt.data_transformers.enable('json')"
   ]
  },
  {
   "cell_type": "markdown",
   "metadata": {
    "Collapsed": "false"
   },
   "source": [
    "## Exercise 1: Load the dataset\n",
    "rubric={correctness:1}\n",
    "\n",
    "- Navigate to the [location for the dataset](https://github.ubc.ca/MDS-2019-20/DSCI_531_viz-1_students/blob/master/datasets/us_contagious_diseases.csv)\n",
    "- Download the dataset and save it into your lab3 folder (I have added this file to your .gitignore already so there's no need to commit it)\n",
    "- Attribution for dataset: [Tycho project](https://www.tycho.pitt.edu), packaged by [Rafael Irizarry](https://cran.r-project.org/web/packages/dslabs/index.html)"
   ]
  },
  {
   "cell_type": "code",
   "execution_count": 2,
   "metadata": {
    "Collapsed": "false"
   },
   "outputs": [],
   "source": [
    "contagious_diseases = pd.read_csv('https://raw.githubusercontent.com/firasm/bits/master/us_contagious_diseases.csv')"
   ]
  },
  {
   "cell_type": "markdown",
   "metadata": {
    "Collapsed": "false"
   },
   "source": [
    "## Exercise 2: Explore the dataset\n",
    "rubric={reasoning:2, accuracy:1, quality:1}\n",
    "\n",
    "**Task 2.1: Explore your dataset by following the instructions below**"
   ]
  },
  {
   "cell_type": "code",
   "execution_count": 4,
   "metadata": {
    "Collapsed": "false"
   },
   "outputs": [
    {
     "name": "stdout",
     "output_type": "stream",
     "text": [
      "The dataframe columns are:  ['disease', 'state', 'year', 'weeks_reporting', 'count', 'population'] \n",
      "\n",
      "- The diseases are:  ['Hepatitis A', 'Measles', 'Mumps', 'Pertussis', 'Polio', 'Rubella', 'Smallpox'] \n",
      "\n",
      "- The years range from 1928 to 2011 and there are 84 years:  \n",
      "\n",
      "- There is data for {0} states:  51 \n",
      "\n"
     ]
    }
   ],
   "source": [
    "# First, let's understand the columns\n",
    "\n",
    "print(\"The dataframe columns are: \", list(contagious_diseases.columns), \"\\n\")\n",
    "\n",
    "# disease: disease type, there are 7 options. Can check the names with: `contagious_diseases['disease'].unique()`\n",
    "# count: total amount of reported cases for all the \"weeks_reporting\"\n",
    "# weeks_reporting: contains information about how many weeks make up the data.\n",
    "\n",
    "print(\"- The diseases are: \", list(contagious_diseases['disease'].unique()),\"\\n\")\n",
    "\n",
    "years_list = sorted(list(contagious_diseases['year'].unique()))\n",
    "print(\"- The years range from {0:.0f} to {1:.0f} and there are {2} years: \".format(years_list[0],\n",
    "                                                                           years_list[-1],\n",
    "                                                                           len(years_list)),\"\\n\")\n",
    "\n",
    "states_list = list(contagious_diseases['state'].unique())\n",
    "print(\"- There is data for {0} states: \", len(states_list),\"\\n\")\n",
    "\n",
    "# Do a similar thing to explore the other columns: \"weeks_reporting\", \"population\", and \"count\". \n",
    "# Note: You do not have to follow the same format, but do print it out for us to read\n",
    "\n",
    "### YOUR SOLUTION HERE\n"
   ]
  },
  {
   "cell_type": "markdown",
   "metadata": {
    "Collapsed": "false"
   },
   "source": [
    "**Task 2.2: Select a state and disease name from your exploration above.**"
   ]
  },
  {
   "cell_type": "code",
   "execution_count": 5,
   "metadata": {
    "Collapsed": "false"
   },
   "outputs": [],
   "source": [
    "# Now, let's wrangle and clean the data a bit:\n",
    "\n",
    "# Counts are pretty variable between diseases and states, so to compare them we should come up with an \"annual rate\".\n",
    "# Also, since the population varies so much between states, we should normalize the annual rate to /100,000 people\n",
    "# Also, not all reports are for exactly 52 weeks, so we will need to adjust for this\n",
    "# Wrangled annual rate column is then:\n",
    "\n",
    "contagious_diseases['annual_rate'] = (contagious_diseases['count'] / contagious_diseases['population']\n",
    "                             ) * 100000 * (52 / contagious_diseases['weeks_reporting'])\n",
    "\n",
    "# Pertussis and Polio have a bunch of missing data so we're just going to ignore those diseases for now\n",
    "contagious_diseases = contagious_diseases[~contagious_diseases['disease'].isin(['Pertussis','Polio'])]\n",
    "\n",
    "# Finally, let's pick a disease and two states and start exploring the data\n",
    "\n",
    "### YOUR SOLUTION HERE\n",
    "\n",
    "name_state = \"FILL_IN_STATE_NAME_HERE\"\n",
    "name_state2 = \"FILL_IN_STATE_NAME_HERE\"\n",
    "name_disease = \"FILL_IN_DISEASE_NAME_HERE\""
   ]
  },
  {
   "cell_type": "markdown",
   "metadata": {
    "Collapsed": "false"
   },
   "source": [
    "## Exercise 3 - Line plot of the population change\n",
    "rubric={viz:5}"
   ]
  },
  {
   "cell_type": "markdown",
   "metadata": {
    "Collapsed": "false"
   },
   "source": [
    "**Task 3.1: Create a line plot of the populations of two states of your choice from 1928 to 2011**"
   ]
  },
  {
   "cell_type": "code",
   "execution_count": 6,
   "metadata": {
    "Collapsed": "false"
   },
   "outputs": [],
   "source": [
    "# Let's create conditional objects so we can more easily get subsets of data from our pandas df\n",
    "\n",
    "cond_state2 = contagious_diseases['state'].isin([name_state,\n",
    "                                                name_state2])\n",
    "cond_disease = contagious_diseases[\"disease\"] == name_disease\n",
    "\n",
    "df_state2_disease = contagious_diseases[cond_state2 & cond_disease]\n",
    "\n",
    "### YOUR SOLUTION HERE\n"
   ]
  },
  {
   "cell_type": "markdown",
   "metadata": {
    "Collapsed": "false"
   },
   "source": [
    "## Exercise 4: Boxplot\n",
    "rubric={vis:5, reasoning:5}"
   ]
  },
  {
   "cell_type": "markdown",
   "metadata": {
    "Collapsed": "false"
   },
   "source": [
    "**Task 4.1: Create a boxplot of all the states' populations from 1930 to 2015 in 10 year intervals**\n",
    "\n",
    "- If you think this is not an effective plot, I would probably agree with you, you can complain about it in 4.2! "
   ]
  },
  {
   "cell_type": "code",
   "execution_count": 7,
   "metadata": {
    "Collapsed": "false"
   },
   "outputs": [],
   "source": [
    "# Again let's limit our dataset using conditional objects\n",
    "cond_years = contagious_diseases[\"year\"].isin(range(1930,2015,10))\n",
    "\n",
    "# Hint: supply the data as: contagious_diseases[cond_years]\n",
    "\n",
    "### YOUR SOLUTION HERE\n"
   ]
  },
  {
   "cell_type": "markdown",
   "metadata": {
    "Collapsed": "false"
   },
   "source": [
    "**Task 4.2: Explain why the plot above is not effective in describing how the population across all states has changed over time. Which plot would you make instead (there's no need to actually make the plot) ?**\n",
    "\n",
    "> Your answer here"
   ]
  },
  {
   "cell_type": "markdown",
   "metadata": {
    "Collapsed": "false"
   },
   "source": [
    "## Exercise 5: Plot the rates for a particular disease and state\n",
    "rubric={vis:3, reasoning:2}"
   ]
  },
  {
   "cell_type": "markdown",
   "metadata": {
    "Collapsed": "false"
   },
   "source": [
    "**Task 5.1: Choose a plot type, and plot the annual rate of the disease and state you picked above. Justify your selection and extract any insights**\n",
    "\n",
    "- You can browse the [Altair gallery](https://altair-viz.github.io/gallery/index.html) for the possible plot types and the syntax\n",
    "- Remember to label the axes and titles"
   ]
  },
  {
   "cell_type": "code",
   "execution_count": 8,
   "metadata": {
    "Collapsed": "false"
   },
   "outputs": [],
   "source": [
    "# Here is the wrangled data for a disease and the first state you picked earlier:\n",
    "cond_state = contagious_diseases[\"state\"] == name_state \n",
    "df_state_disease = contagious_diseases[cond_state & cond_disease]\n",
    "\n",
    "### YOUR SOLUTION HERE\n"
   ]
  },
  {
   "cell_type": "markdown",
   "metadata": {
    "Collapsed": "false"
   },
   "source": [
    "**Task 5.2: Justify your plot type and list any insights you extracted from your plot**\n",
    "\n",
    "> Your answer here"
   ]
  },
  {
   "cell_type": "markdown",
   "metadata": {
    "Collapsed": "false"
   },
   "source": [
    "### Exercise 6: Plot the rates for a particular disease and two states\n",
    "rubric={vis:3, reasoning:2}"
   ]
  },
  {
   "cell_type": "markdown",
   "metadata": {
    "Collapsed": "false"
   },
   "source": [
    "**Task 6.1: Create a new plot, now showing the data for two states overlaid for the same disease**"
   ]
  },
  {
   "cell_type": "code",
   "execution_count": 9,
   "metadata": {
    "Collapsed": "false"
   },
   "outputs": [],
   "source": [
    "# Let's first create the conditional object and wrangle our data again\n",
    "\n",
    "df_state2_disease = contagious_diseases[cond_state2 & cond_disease]\n",
    "\n",
    "### YOUR SOLUTION HERE\n"
   ]
  },
  {
   "cell_type": "markdown",
   "metadata": {
    "Collapsed": "false"
   },
   "source": [
    "**Task 6.2: Explain what insights you can extract from this about the disease and states you selected. From your plot, estimate the year where the incidence rate fell to negligible levels in each state?**\n",
    "\n",
    "> Your answer here"
   ]
  },
  {
   "cell_type": "markdown",
   "metadata": {
    "Collapsed": "false"
   },
   "source": [
    "## Exercise 7: Introduction of vaccines\n",
    "rubric={vis:5}\n",
    "\n",
    "According to the Centre for Disease Control ([CDC](https://www.cdc.gov/mmwr/preview/mmwrhtml/su6004a9.htm#tab1)), vaccines for the diseases we are considering were introduced in the United States in the following years:"
   ]
  },
  {
   "cell_type": "code",
   "execution_count": 10,
   "metadata": {
    "Collapsed": "false"
   },
   "outputs": [
    {
     "data": {
      "text/html": [
       "<div>\n",
       "<style scoped>\n",
       "    .dataframe tbody tr th:only-of-type {\n",
       "        vertical-align: middle;\n",
       "    }\n",
       "\n",
       "    .dataframe tbody tr th {\n",
       "        vertical-align: top;\n",
       "    }\n",
       "\n",
       "    .dataframe thead th {\n",
       "        text-align: right;\n",
       "    }\n",
       "</style>\n",
       "<table border=\"1\" class=\"dataframe\">\n",
       "  <thead>\n",
       "    <tr style=\"text-align: right;\">\n",
       "      <th></th>\n",
       "      <th>Disease</th>\n",
       "      <th>Year Introduced</th>\n",
       "    </tr>\n",
       "  </thead>\n",
       "  <tbody>\n",
       "    <tr>\n",
       "      <th>0</th>\n",
       "      <td>Hepatitis A</td>\n",
       "      <td>1995</td>\n",
       "    </tr>\n",
       "    <tr>\n",
       "      <th>1</th>\n",
       "      <td>Measles</td>\n",
       "      <td>1963</td>\n",
       "    </tr>\n",
       "    <tr>\n",
       "      <th>2</th>\n",
       "      <td>Mumps</td>\n",
       "      <td>1967</td>\n",
       "    </tr>\n",
       "    <tr>\n",
       "      <th>3</th>\n",
       "      <td>Pertussis</td>\n",
       "      <td>1914</td>\n",
       "    </tr>\n",
       "    <tr>\n",
       "      <th>4</th>\n",
       "      <td>Polio</td>\n",
       "      <td>1955</td>\n",
       "    </tr>\n",
       "    <tr>\n",
       "      <th>5</th>\n",
       "      <td>Rubella</td>\n",
       "      <td>1969</td>\n",
       "    </tr>\n",
       "    <tr>\n",
       "      <th>6</th>\n",
       "      <td>Smallpox</td>\n",
       "      <td>1800</td>\n",
       "    </tr>\n",
       "  </tbody>\n",
       "</table>\n",
       "</div>"
      ],
      "text/plain": [
       "       Disease  Year Introduced\n",
       "0  Hepatitis A             1995\n",
       "1      Measles             1963\n",
       "2        Mumps             1967\n",
       "3    Pertussis             1914\n",
       "4        Polio             1955\n",
       "5      Rubella             1969\n",
       "6     Smallpox             1800"
      ]
     },
     "execution_count": 10,
     "metadata": {},
     "output_type": "execute_result"
    }
   ],
   "source": [
    "### Create a dataframe with the vaccine data \n",
    "vaccines = pd.DataFrame.from_dict({\"Hepatitis A\": 1995 , \"Measles\": 1963, \"Mumps\": 1967, \"Pertussis\": 1914, \"Polio\": 1955, \"Rubella\":1969, \"Smallpox\":1800},\n",
    "                                    orient = \"index\").reset_index()\n",
    "vaccines = vaccines.rename(columns={\"index\":\"Disease\", 0:\"Year Introduced\"})\n",
    "\n",
    "vaccines"
   ]
  },
  {
   "cell_type": "markdown",
   "metadata": {
    "Collapsed": "false"
   },
   "source": [
    "**Task 7.1: Assign your plot in Exercise 3.1 to a variable, then add a line to that plot marking the year vaccines were introduced**"
   ]
  },
  {
   "cell_type": "code",
   "execution_count": 11,
   "metadata": {
    "Collapsed": "false"
   },
   "outputs": [],
   "source": [
    "### YOUR SOLUTION HERE"
   ]
  },
  {
   "cell_type": "markdown",
   "metadata": {
    "Collapsed": "false"
   },
   "source": [
    "## Exercise 8: Plot the aggregate annual rate for a disease across ALL states\n",
    "rubric={vis:3,reasoning:2}"
   ]
  },
  {
   "cell_type": "markdown",
   "metadata": {
    "Collapsed": "false"
   },
   "source": [
    "**Task 8.1 Wrangle the data and then plot the aggregate annual rate for a disease across the country**\n",
    "\n",
    "- Note: to be clear, we do not want to see data for all 50 states individually plotted"
   ]
  },
  {
   "cell_type": "code",
   "execution_count": 12,
   "metadata": {
    "Collapsed": "false"
   },
   "outputs": [],
   "source": [
    "# Some wrangling to get you the data you need\n",
    "\n",
    "df_con_usavg = contagious_diseases.groupby([\"disease\", \"year\"]).agg(\n",
    "    {\"annual_rate\": numpy.nanmean}).reset_index()\n",
    "\n",
    "### YOUR SOLUTION HERE"
   ]
  },
  {
   "cell_type": "markdown",
   "metadata": {
    "Collapsed": "false"
   },
   "source": [
    "**Task 8.2: List any insights you extracted from your plot**\n",
    "    \n",
    "> Your answer here"
   ]
  },
  {
   "cell_type": "markdown",
   "metadata": {
    "Collapsed": "false"
   },
   "source": [
    "## Exercise 9: Faceted plot for all disease\n",
    "rubric={vis:10,reasoning:5}"
   ]
  },
  {
   "cell_type": "markdown",
   "metadata": {
    "Collapsed": "false"
   },
   "source": [
    "**Task 9.1: Create a plot - faceted by the disease - to show the aggregate annual rate for across the US for all diseases**\n",
    "\n",
    "- Though it is generally bad practice to do so (and is so in this case also), to visualize the data better, you may let the axis with the annual rate be different for each faceted plot (justify it below if you do, and also if you chose not to)"
   ]
  },
  {
   "cell_type": "code",
   "execution_count": 13,
   "metadata": {
    "Collapsed": "false"
   },
   "outputs": [],
   "source": [
    "### YOUR SOLUTION HERE\n"
   ]
  },
  {
   "cell_type": "markdown",
   "metadata": {
    "Collapsed": "false"
   },
   "source": [
    "**Task 9.2: Explain whether or not the plot above is an effective visualization. Consider also your decision to allow (or not allow) the y-axis to be different for each plot. Discuss the pros and cons of the choice.**\n",
    "\n",
    "> Your answer here"
   ]
  },
  {
   "cell_type": "markdown",
   "metadata": {
    "Collapsed": "false"
   },
   "source": [
    "**Task 9.3: List the insights you were able to extract from this plot.**\n",
    "\n",
    "> Your answer here"
   ]
  },
  {
   "cell_type": "markdown",
   "metadata": {
    "Collapsed": "false"
   },
   "source": [
    "## Exercise 10: Create a heatmap of the annual counts for a disease\n",
    "rubric={vis:20,reasoning:5}"
   ]
  },
  {
   "cell_type": "markdown",
   "metadata": {
    "Collapsed": "false"
   },
   "source": [
    "**Task 10.1: Create a heatmap of the annual counts for a disease, add a vertical line at the year the vaccine was introduced.** "
   ]
  },
  {
   "cell_type": "code",
   "execution_count": 14,
   "metadata": {
    "Collapsed": "false"
   },
   "outputs": [],
   "source": [
    "### YOUR SOLUTION HERE\n"
   ]
  },
  {
   "cell_type": "markdown",
   "metadata": {
    "Collapsed": "false"
   },
   "source": [
    "**Task 10.2: Critique your plot, is this an effective way to visualize the spread of the disease and the impact of the vaccine? List any insights you extracted from your plot.**\n",
    "\n",
    "> Your answer here"
   ]
  },
  {
   "cell_type": "markdown",
   "metadata": {
    "Collapsed": "false"
   },
   "source": [
    "**Congratulations! You have now done a full data analysis and produced a heatmap similar to what the Wallstreet journal did [here](http://graphics.wsj.com/infectious-diseases-and-vaccines/)! You're well on your way to becoming a true graphics master.** "
   ]
  },
  {
   "cell_type": "markdown",
   "metadata": {
    "Collapsed": "false"
   },
   "source": [
    "## (Optional): Compare and Contrast\n",
    "rubric={reasoning:5}\n",
    "\n",
    "Skim through the Wallstreet journal article [here](http://graphics.wsj.com/infectious-diseases-and-vaccines/) and find the heatmap for your disease. Compare and contrast the effectiveness of your heatmap vs. the one from the article. Think about the effective design principles we discussed in lectures. How would you improve your plot or the WSJ plot? (Note: there is no need to actually improve your heatmap, just write about how you would improve it if time permitted.\n"
   ]
  },
  {
   "cell_type": "markdown",
   "metadata": {
    "Collapsed": "false"
   },
   "source": [
    "> Your Answer here"
   ]
  }
 ],
 "metadata": {
  "kernelspec": {
   "display_name": "Python 3",
   "language": "python",
   "name": "python3"
  },
  "language_info": {
   "codemirror_mode": {
    "name": "ipython",
    "version": 3
   },
   "file_extension": ".py",
   "mimetype": "text/x-python",
   "name": "python",
   "nbconvert_exporter": "python",
   "pygments_lexer": "ipython3",
   "version": "3.8.3"
  },
  "toc-autonumbering": false,
  "toc-showmarkdowntxt": false
 },
 "nbformat": 4,
 "nbformat_minor": 4
}
